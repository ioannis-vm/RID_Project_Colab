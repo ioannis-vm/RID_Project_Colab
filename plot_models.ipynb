{
 "cells": [
  {
   "cell_type": "markdown",
   "id": "d8b6b53d-4116-4b93-9e9e-8283c4f569b1",
   "metadata": {},
   "source": [
    "# <a href=\"https://colab.research.google.com/github/ioannis-vm/RID_Project_Colab/blob/main/plot_models.ipynb\" target=\"_parent\"><img src=\"https://colab.research.google.com/assets/colab-badge.svg\" alt=\"Open In Colab\"/></a>"
   ]
  },
  {
   "cell_type": "markdown",
   "id": "ece8ec6d-dd3e-4edf-a108-27dd653e26c3",
   "metadata": {},
   "source": [
    "# In pursuit of an improved RID|PID model.\n",
    "\n",
    "Created: `Tue May 21 04:19:25 PM PDT 2024`\n",
    "\n",
    "With this notebook we superimpose rolling quantiles from RID|PID\n",
    "models on top of structural analysis results of 18 steel archetype\n",
    "buildings. Each building is represented by two separate 2D OpenSees\n",
    "models which only differ to a small degree in their number of gravity\n",
    "framing bays. We analyzed them under 18 hazard levels with Conditional\n",
    "Spectrum (CS) suites of 40 records. The targets were RotD50, and the\n",
    "two horizontal ground motion records were applied to the corresponding\n",
    "model. Because the distribution of the RID-PID pairs is very similar\n",
    "in the two directions, we merge the RID-PID pairs of each direction in\n",
    "the figures and represent their distribution using the same model.\n",
    "\n",
    "The conditional Weibull model is dynamically fitted to the data.\n",
    "The FEMA P-58 and SP3 models are superimposed with predefined\n",
    "parameters.\n"
   ]
  },
  {
   "cell_type": "markdown",
   "id": "3ca70aeb-1136-4313-929d-841997606730",
   "metadata": {},
   "source": [
    "## Initial Google Colab-specific setup"
   ]
  },
  {
   "cell_type": "code",
   "execution_count": null,
   "id": "87a869c6",
   "metadata": {
    "lines_to_next_cell": 2
   },
   "outputs": [],
   "source": [
    "# Install `git` and clone our repo.\n",
    "get_ipython().system('apt-get install git')\n",
    "get_ipython().system('git clone https://github.com/ioannis-vm/RID_Project_Colab')"
   ]
  },
  {
   "cell_type": "code",
   "execution_count": null,
   "id": "bce9d2a4-cd74-4831-a72d-634d0b09de57",
   "metadata": {},
   "outputs": [],
   "source": [
    "# Change directory to the repo\n",
    "import os\n",
    "\n",
    "os.chdir('RID_Project_Colab')"
   ]
  },
  {
   "cell_type": "code",
   "execution_count": null,
   "id": "26dd2139-984c-41f3-a7ee-279ffe646f81",
   "metadata": {},
   "outputs": [],
   "source": [
    "# Install project dependencies\n",
    "get_ipython().system('pip install -r requirements.txt')"
   ]
  },
  {
   "cell_type": "markdown",
   "id": "d1d7a769-c5be-48a4-97d9-535153ed7cf4",
   "metadata": {},
   "source": [
    "### Setup"
   ]
  },
  {
   "cell_type": "code",
   "execution_count": null,
   "id": "d7193b61-10f9-4e6f-9b1d-13d4eadbb133",
   "metadata": {},
   "outputs": [],
   "source": [
    "# Imports\n",
    "from pathlib import Path\n",
    "import os\n",
    "import numpy as np\n",
    "import pandas as pd\n",
    "from src import models\n",
    "from src.importable import generate_plot"
   ]
  },
  {
   "cell_type": "code",
   "execution_count": null,
   "id": "6bba3c13",
   "metadata": {
    "lines_to_next_cell": 2
   },
   "outputs": [],
   "source": [
    "# Select case, set model parameters\n",
    "\n",
    "# Simple and powerful.\n",
    "selected_model = models.Model_1_Weibull()\n",
    "# More flexible, still work in progress.\n",
    "# selected_model = models.Model_Weibull_Trilinear()\n",
    "\n",
    "# Structural system:\n",
    "# any of {'smrf', 'scbf', 'brbf'}\n",
    "\n",
    "# Total number of stories:\n",
    "# any of {'3', '6', '9'}\n",
    "\n",
    "# Design risk category:\n",
    "# any of {'ii', 'iv'}\n",
    "\n",
    "# Story:\n",
    "# any of {'1', '2', ...} or 'max-max'\n",
    "\n",
    "# system, stories, rc, story = 'smrf', '3', 'ii', '1'\n",
    "# system, stories, rc, story = 'smrf', '3', 'ii', '2'\n",
    "# system, stories, rc, story = 'smrf', '3', 'ii', '3'\n",
    "\n",
    "system, stories, rc, story = 'smrf', '3', 'ii', 'max-max'\n",
    "\n",
    "# Stratification criterion, only applicable when story='max-max'.\n",
    "# 'StoryDiffText': Difference in story where maxPID/maxRID occur.\n",
    "# 'PIDStoryText':  Story where max PID occurs.\n",
    "# 'RIDStoryText':  Story where max RID occurs.\n",
    "\n",
    "criterion = 'StoryDiffText'\n",
    "# criterion = 'PIDStoryText'\n",
    "# criterion = 'RIDStoryText'"
   ]
  },
  {
   "cell_type": "code",
   "execution_count": null,
   "id": "b2272c4c",
   "metadata": {},
   "outputs": [],
   "source": [
    "df = pd.read_parquet('data/edps.parquet')\n",
    "df.index = df.index.reorder_levels(\n",
    "    ['system', 'stories', 'rc', 'dir', 'edp', 'hz', 'gm', 'loc']\n",
    ")\n",
    "df = df.sort_index()\n",
    "df_collapse = pd.read_parquet('data/pr_collapse.parquet')\n",
    "\n",
    "# FEMA P-58 model parameters\n",
    "fema_delta_y = 0.01\n",
    "fema_dispersion = 0.80\n",
    "\n",
    "# SP3 model parameters\n",
    "sp3_delta_y = {'smrf': 0.01, 'scbf': 0.003, 'brbf': 0.0021}[system]\n",
    "sp3_type = {\n",
    "    'smrf': 'elastic_plastic',\n",
    "    'scbf': 'elastic_plastic',\n",
    "    'brbf': 'brbf_no_backup_grav',\n",
    "}[system]\n",
    "sp3_dispersion = 0.80\n",
    "\n",
    "# bypass SP3 defaults:\n",
    "# sp3_delta_y = 0.003\n",
    "# sp3_type = 'general_inelastic'\n",
    "# # any of\n",
    "# # {elastic_plastic, general_inelastic, brbf_no_backup, brbf_no_backup_grav, brbf_backup}\n",
    "\n",
    "# Residual drift fragility curve (for probabilities)\n",
    "rid_capacity_delta = 0.01\n",
    "rid_capacity_beta = 0.3\n",
    "\n",
    "# Show probability of collapse\n",
    "show_collapse_probability = True"
   ]
  },
  {
   "cell_type": "code",
   "execution_count": null,
   "id": "1ff55f10",
   "metadata": {
    "lines_to_next_cell": 2
   },
   "outputs": [],
   "source": [
    "\n",
    "\n",
    "# plotting parameters\n",
    "xmin, xmax = -0.002, 0.02  # rid\n",
    "ymin, ymax = -0.002, 0.065  # pid"
   ]
  },
  {
   "cell_type": "code",
   "execution_count": null,
   "id": "f9c07191",
   "metadata": {},
   "outputs": [],
   "source": [
    "\n",
    "generate_plot(\n",
    "    df,\n",
    "    df_collapse,\n",
    "    selected_model,\n",
    "    system,\n",
    "    stories,\n",
    "    rc,\n",
    "    story,\n",
    "    criterion,\n",
    "    fema_delta_y,\n",
    "    fema_dispersion,\n",
    "    sp3_delta_y,\n",
    "    sp3_type,\n",
    "    sp3_dispersion,\n",
    "    rid_capacity_delta,\n",
    "    rid_capacity_beta,\n",
    "    xmin,\n",
    "    xmax,\n",
    "    ymin,\n",
    "    ymax,\n",
    "    show_collapse_probability,\n",
    ")"
   ]
  }
 ],
 "metadata": {
  "colab": {
   "include_colab_link": true,
   "provenance": []
  },
  "jupytext": {
   "formats": "ipynb,py:percent"
  },
  "kernelspec": {
   "display_name": "Python 3 (ipykernel)",
   "language": "python",
   "name": "python3"
  },
  "language_info": {
   "codemirror_mode": {
    "name": "ipython",
    "version": 3
   },
   "file_extension": ".py",
   "mimetype": "text/x-python",
   "name": "python",
   "nbconvert_exporter": "python",
   "pygments_lexer": "ipython3",
   "version": "3.12.3"
  }
 },
 "nbformat": 4,
 "nbformat_minor": 5
}
